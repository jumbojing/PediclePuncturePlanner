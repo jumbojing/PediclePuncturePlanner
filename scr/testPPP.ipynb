{
 "cells": [
  {
   "cell_type": "markdown",
   "id": "f0a6a24b",
   "metadata": {},
   "source": [
    "# PPP 项目一键测试\n",
    "本 notebook 用于快速验证 scr 包的核心功能导入与基础调用。"
   ]
  },
  {
   "cell_type": "code",
   "execution_count": null,
   "id": "6fb4c89e",
   "metadata": {},
   "outputs": [],
   "source": [
    "# 测试 scr 包的统一导入\n",
    "import scr\n",
    "print('scr 包导入成功')"
   ]
  },
  {
   "cell_type": "code",
   "execution_count": null,
   "id": "4fd9e442",
   "metadata": {},
   "outputs": [],
   "source": [
    "# 测试 pppUtil 工具函数\n",
    "from scr import pppUtil\n",
    "print('pppUtil:', hasattr(pppUtil, 'ndA'), hasattr(pppUtil, 'psFitPla'))"
   ]
  },
  {
   "cell_type": "code",
   "execution_count": null,
   "id": "7f7c5bee",
   "metadata": {},
   "outputs": [],
   "source": [
    "# 测试 vtkCut 裁切API\n",
    "from scr import vtkCut\n",
    "print('vtkCut:', hasattr(vtkCut, 'vtkcrop'), hasattr(vtkCut, 'vtkPln'))"
   ]
  },
  {
   "cell_type": "code",
   "execution_count": null,
   "id": "f0fc8b00",
   "metadata": {},
   "outputs": [],
   "source": [
    "# 测试主类 PediclePuncturePlanner\n",
    "from scr.PediclePuncturePlanner import PediclePuncturePlanner\n",
    "print('PediclePuncturePlanner:', PediclePuncturePlanner)"
   ]
  },
  {
   "cell_type": "code",
   "execution_count": null,
   "id": "80ee4955",
   "metadata": {},
   "outputs": [],
   "source": [
    "# 测试 ctPj 和 volData 的基础类\n",
    "from scr.ctPj import CtPj\n",
    "from scr.volData import volData\n",
    "print('CtPj:', CtPj)\n",
    "print('volData:', volData)"
   ]
  }
 ],
 "metadata": {
  "language_info": {
   "name": "python"
  }
 },
 "nbformat": 4,
 "nbformat_minor": 5
}
