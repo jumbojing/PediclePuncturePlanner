{
 "cells": [
  {
   "cell_type": "markdown",
   "id": "f0a6a24b",
   "metadata": {},
   "source": [
    "# PPP 项目一键测试\n",
    "本 notebook 用于快速验证 scr 包的核心功能导入与基础调用。"
   ]
  },
  {
   "cell_type": "code",
   "execution_count": 132,
   "id": "6fb4c89e",
   "metadata": {},
   "outputs": [
    {
     "ename": "<class 'ImportError'>",
     "evalue": "attempted relative import with no known parent package",
     "output_type": "error",
     "traceback": [
      "\u001b[0;31m---------------------------------------------------------------------------\u001b[0m",
      "\u001b[0;31mImportError\u001b[0m                               Traceback (most recent call last)",
      "Cell \u001b[0;32mIn[60], line 7\u001b[0m\n\u001b[1;32m      4\u001b[0m sys\u001b[38;5;241m.\u001b[39mpath\u001b[38;5;241m.\u001b[39mappend(os\u001b[38;5;241m.\u001b[39mpath\u001b[38;5;241m.\u001b[39mdirname(os\u001b[38;5;241m.\u001b[39mpath\u001b[38;5;241m.\u001b[39mdirname(os\u001b[38;5;241m.\u001b[39mpath\u001b[38;5;241m.\u001b[39mabspath(\u001b[38;5;124m'\u001b[39m\u001b[38;5;124m.\u001b[39m\u001b[38;5;124m'\u001b[39m))))\n\u001b[1;32m      6\u001b[0m \u001b[38;5;66;03m# 测试 scr 包的导入\u001b[39;00m\n\u001b[0;32m----> 7\u001b[0m \u001b[38;5;28;01mfrom\u001b[39;00m\u001b[38;5;250m \u001b[39m\u001b[38;5;21;01m.\u001b[39;00m\u001b[38;5;250m \u001b[39m\u001b[38;5;28;01mimport\u001b[39;00m \u001b[38;5;241m*\u001b[39m\n\u001b[1;32m      8\u001b[0m \u001b[38;5;28mprint\u001b[39m(\u001b[38;5;124m'\u001b[39m\u001b[38;5;124mscr 包导入成功\u001b[39m\u001b[38;5;124m'\u001b[39m)\n",
      "\u001b[0;31mImportError\u001b[0m: attempted relative import with no known parent package"
     ]
    }
   ],
   "source": [
    "# 测试 scr 包的统一导入\n",
    "import scr\n",
    "print('scr 包导入成功')"
   ]
  },
  {
   "cell_type": "code",
   "execution_count": 129,
   "id": "4fd9e442",
   "metadata": {},
   "outputs": [],
   "source": [
    "# 测试 pppUtil 工具函数\n",
    "from pppUtil import *\n",
    "\n",
    "# print('pppUtil:', hasattr(pppUtil, 'ndA'), hasattr(pppUtil, 'psFitPla'))"
   ]
  },
  {
   "cell_type": "code",
   "execution_count": 214,
   "id": "f0fc8b00",
   "metadata": {},
   "outputs": [
    {
     "name": "stdout",
     "output_type": "stream",
     "text": [
      "[1. 0. 0.]\n",
      "PediclePuncturePlanner: <class 'PediclePuncturePlanner.PediclePuncturePlanner'>\n"
     ]
    }
   ],
   "source": [
    "# 测试主类 PediclePuncturePlanner\n",
    "from PediclePuncturePlanner import *\n",
    "print('PediclePuncturePlanner:', PediclePuncturePlanner)"
   ]
  }
 ],
 "metadata": {
  "kernelspec": {
   "display_name": "Slicer 5.9",
   "language": "python",
   "name": "slicer-5.9"
  },
  "language_info": {
   "file_extension": ".py",
   "mimetype": "text/x-python",
   "name": "python",
   "version": "3.9.10"
  }
 },
 "nbformat": 4,
 "nbformat_minor": 5
}
