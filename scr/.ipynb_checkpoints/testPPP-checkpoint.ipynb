{
 "cells": [
  {
   "cell_type": "markdown",
   "id": "f0a6a24b",
   "metadata": {},
   "source": [
    "# PPP 项目一键测试\n",
    "本 notebook 用于快速验证 scr 包的核心功能导入与基础调用。"
   ]
  },
  {
   "cell_type": "code",
   "execution_count": 126,
   "id": "6fb4c89e",
   "metadata": {},
   "outputs": [
    {
     "ename": "<class 'ModuleNotFoundError'>",
     "evalue": "No module named 'scr'",
     "output_type": "error",
     "traceback": [
      "\u001b[0;31m---------------------------------------------------------------------------\u001b[0m",
      "\u001b[0;31mModuleNotFoundError\u001b[0m                       Traceback (most recent call last)",
      "Cell \u001b[0;32mIn[55], line 2\u001b[0m\n\u001b[1;32m      1\u001b[0m \u001b[38;5;66;03m# 测试 scr 包的统一导入\u001b[39;00m\n\u001b[0;32m----> 2\u001b[0m \u001b[38;5;28;01mimport\u001b[39;00m\u001b[38;5;250m \u001b[39m\u001b[38;5;21;01mscr\u001b[39;00m\n\u001b[1;32m      3\u001b[0m \u001b[38;5;28mprint\u001b[39m(\u001b[38;5;124m'\u001b[39m\u001b[38;5;124mscr 包导入成功\u001b[39m\u001b[38;5;124m'\u001b[39m)\n",
      "\u001b[0;31mModuleNotFoundError\u001b[0m: No module named 'scr'"
     ]
    }
   ],
   "source": [
    "# 测试 scr 包的统一导入\n",
    "import scr\n",
    "print('scr 包导入成功')"
   ]
  },
  {
   "cell_type": "code",
   "execution_count": null,
   "id": "4fd9e442",
   "metadata": {},
   "outputs": [],
   "source": [
    "# 测试 pppUtil 工具函数\n",
    "from scr import pppUtil\n",
    "print('pppUtil:', hasattr(pppUtil, 'ndA'), hasattr(pppUtil, 'psFitPla'))"
   ]
  },
  {
   "cell_type": "code",
   "execution_count": null,
   "id": "7f7c5bee",
   "metadata": {},
   "outputs": [],
   "source": [
    "# 测试 vtkCut 裁切API\n",
    "from scr import vtkCut\n",
    "print('vtkCut:', hasattr(vtkCut, 'vtkcrop'), hasattr(vtkCut, 'vtkPln'))"
   ]
  },
  {
   "cell_type": "code",
   "execution_count": null,
   "id": "f0fc8b00",
   "metadata": {},
   "outputs": [],
   "source": [
    "# 测试主类 PediclePuncturePlanner\n",
    "from scr.PediclePuncturePlanner import PediclePuncturePlanner\n",
    "print('PediclePuncturePlanner:', PediclePuncturePlanner)"
   ]
  },
  {
   "cell_type": "code",
   "execution_count": null,
   "id": "80ee4955",
   "metadata": {},
   "outputs": [],
   "source": [
    "# 测试 ctPj 和 volData 的基础类\n",
    "from scr.ctPj import CtPj\n",
    "from scr.volData import volData\n",
    "print('CtPj:', CtPj)\n",
    "print('volData:', volData)"
   ]
  }
 ],
 "metadata": {
  "kernelspec": {
   "display_name": "Python 3",
   "language": "python",
   "name": "python3"
  },
  "language_info": {
   "file_extension": ".py",
   "mimetype": "text/x-python",
   "name": "python",
   "version": "3.9.10"
  }
 },
 "nbformat": 4,
 "nbformat_minor": 5
}
